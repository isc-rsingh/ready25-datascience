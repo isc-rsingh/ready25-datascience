{
 "cells": [
  {
   "cell_type": "code",
   "execution_count": 1,
   "id": "4ff27185",
   "metadata": {
    "vscode": {
     "languageId": "shellscript"
    }
   },
   "outputs": [],
   "source": [
    "# install necessary stuff\n",
    "# !python -m pip install ipykernel\n",
    "# !python -m pip install pandas\n",
    "# !python -m pip install intersystems-irispython\n",
    "# !python -m pip install pyodbc"
   ]
  },
  {
   "cell_type": "code",
   "execution_count": 2,
   "id": "80a948db",
   "metadata": {},
   "outputs": [
    {
     "name": "stdout",
     "output_type": "stream",
     "text": [
      "unixODBC 2.3.12\n",
      "DRIVERS............: /opt/homebrew/etc/odbcinst.ini\n",
      "SYSTEM DATA SOURCES: /opt/homebrew/etc/odbc.ini\n",
      "FILE DATA SOURCES..: /opt/homebrew/etc/ODBCDataSources\n",
      "USER DATA SOURCES..: /Users/rsingh/.odbc.ini\n",
      "SQLULEN Size.......: 8\n",
      "SQLLEN Size........: 8\n",
      "SQLSETPOSIROW Size.: 8\n"
     ]
    }
   ],
   "source": [
    "# Verify PyODBC installation \n",
    "!odbcinst -j"
   ]
  },
  {
   "cell_type": "code",
   "execution_count": 3,
   "id": "54d0440b",
   "metadata": {},
   "outputs": [],
   "source": [
    "import pandas as pd\n",
    "# import pyodbc \n",
    "import iris"
   ]
  },
  {
   "cell_type": "code",
   "execution_count": null,
   "id": "b70359e5",
   "metadata": {},
   "outputs": [],
   "source": [
    "mytable = \"Data.Countries\"\n",
    "\n",
    "conn = iris.connect(hostname='localhost', port=1972, namespace='USER', username='rsingh', password='genjisan')\n",
    "print(conn)\n",
    "cursor = conn.cursor()\n"
   ]
  },
  {
   "cell_type": "code",
   "execution_count": null,
   "id": "8f213adf",
   "metadata": {},
   "outputs": [],
   "source": [
    "# make a pandas dataframe\n",
    "# df = None\n",
    "\n",
    "try:\n",
    "  sql = \"SELECT * FROM \" + mytable\n",
    "  df = pd.read_sql(sql, conn)\n",
    "except Exception as inst:\n",
    "  print(f\"Exception! {inst}\")\n",
    "\n",
    "gnp = df.gnp"
   ]
  },
  {
   "cell_type": "code",
   "execution_count": 6,
   "id": "bcb091d1",
   "metadata": {},
   "outputs": [
    {
     "data": {
      "text/html": [
       "<div>\n",
       "<style scoped>\n",
       "    .dataframe tbody tr th:only-of-type {\n",
       "        vertical-align: middle;\n",
       "    }\n",
       "\n",
       "    .dataframe tbody tr th {\n",
       "        vertical-align: top;\n",
       "    }\n",
       "\n",
       "    .dataframe thead th {\n",
       "        text-align: right;\n",
       "    }\n",
       "</style>\n",
       "<table border=\"1\" class=\"dataframe\">\n",
       "  <thead>\n",
       "    <tr style=\"text-align: right;\">\n",
       "      <th></th>\n",
       "      <th>code</th>\n",
       "      <th>name</th>\n",
       "      <th>continent</th>\n",
       "      <th>region</th>\n",
       "      <th>surface_area</th>\n",
       "      <th>independence_year</th>\n",
       "      <th>population</th>\n",
       "      <th>life_expectancy</th>\n",
       "      <th>gnp</th>\n",
       "      <th>gnp_old</th>\n",
       "      <th>local_name</th>\n",
       "      <th>government_form</th>\n",
       "      <th>head_of_state</th>\n",
       "      <th>capital</th>\n",
       "      <th>code2</th>\n",
       "    </tr>\n",
       "  </thead>\n",
       "  <tbody>\n",
       "    <tr>\n",
       "      <th>170</th>\n",
       "      <td>PNG</td>\n",
       "      <td>Papua New Guinea</td>\n",
       "      <td>Oceania</td>\n",
       "      <td>Melanesia</td>\n",
       "      <td>462840.0</td>\n",
       "      <td>1975</td>\n",
       "      <td>4807000</td>\n",
       "      <td>63.1</td>\n",
       "      <td>4988.0</td>\n",
       "      <td>6328</td>\n",
       "      <td>Papua New Guinea/Papua Niugini</td>\n",
       "      <td>Constitutional Monarchy</td>\n",
       "      <td>Elisabeth II</td>\n",
       "      <td>2884</td>\n",
       "      <td>PG</td>\n",
       "    </tr>\n",
       "    <tr>\n",
       "      <th>37</th>\n",
       "      <td>CAN</td>\n",
       "      <td>Canada</td>\n",
       "      <td>North America</td>\n",
       "      <td>North America</td>\n",
       "      <td>9970610.0</td>\n",
       "      <td>1867</td>\n",
       "      <td>31147000</td>\n",
       "      <td>79.4</td>\n",
       "      <td>598862.0</td>\n",
       "      <td>625626</td>\n",
       "      <td>Canada</td>\n",
       "      <td>Constitutional Monarchy, Federation</td>\n",
       "      <td>Elisabeth II</td>\n",
       "      <td>1822</td>\n",
       "      <td>CA</td>\n",
       "    </tr>\n",
       "    <tr>\n",
       "      <th>6</th>\n",
       "      <td>ANT</td>\n",
       "      <td>Netherlands Antilles</td>\n",
       "      <td>North America</td>\n",
       "      <td>Caribbean</td>\n",
       "      <td>800.0</td>\n",
       "      <td>NuLL</td>\n",
       "      <td>217000</td>\n",
       "      <td>74.7</td>\n",
       "      <td>1941.0</td>\n",
       "      <td>NuLL</td>\n",
       "      <td>Nederlandse Antillen</td>\n",
       "      <td>Nonmetropolitan Territory of The Netherlands</td>\n",
       "      <td>Willem-Alexander</td>\n",
       "      <td>33</td>\n",
       "      <td>AN</td>\n",
       "    </tr>\n",
       "    <tr>\n",
       "      <th>153</th>\n",
       "      <td>NER</td>\n",
       "      <td>Niger</td>\n",
       "      <td>Africa</td>\n",
       "      <td>Western Africa</td>\n",
       "      <td>1267000.0</td>\n",
       "      <td>1960</td>\n",
       "      <td>10730000</td>\n",
       "      <td>41.3</td>\n",
       "      <td>1706.0</td>\n",
       "      <td>1580</td>\n",
       "      <td>Niger</td>\n",
       "      <td>Republic</td>\n",
       "      <td>Mamadou Tandja</td>\n",
       "      <td>2738</td>\n",
       "      <td>NE</td>\n",
       "    </tr>\n",
       "    <tr>\n",
       "      <th>30</th>\n",
       "      <td>BRA</td>\n",
       "      <td>Brazil</td>\n",
       "      <td>South America</td>\n",
       "      <td>South America</td>\n",
       "      <td>8547403.0</td>\n",
       "      <td>1822</td>\n",
       "      <td>170115000</td>\n",
       "      <td>62.9</td>\n",
       "      <td>776739.0</td>\n",
       "      <td>804108</td>\n",
       "      <td>Brasil</td>\n",
       "      <td>Federal Republic</td>\n",
       "      <td>Fernando Henrique Cardoso</td>\n",
       "      <td>211</td>\n",
       "      <td>BR</td>\n",
       "    </tr>\n",
       "    <tr>\n",
       "      <th>165</th>\n",
       "      <td>PAN</td>\n",
       "      <td>Panama</td>\n",
       "      <td>North America</td>\n",
       "      <td>Central America</td>\n",
       "      <td>75517.0</td>\n",
       "      <td>1903</td>\n",
       "      <td>2856000</td>\n",
       "      <td>75.5</td>\n",
       "      <td>9131.0</td>\n",
       "      <td>8700</td>\n",
       "      <td>Panama</td>\n",
       "      <td>Republic</td>\n",
       "      <td>Mireya Elisa Moscoso RodrIguez</td>\n",
       "      <td>2882</td>\n",
       "      <td>PA</td>\n",
       "    </tr>\n",
       "    <tr>\n",
       "      <th>125</th>\n",
       "      <td>LSO</td>\n",
       "      <td>Lesotho</td>\n",
       "      <td>Africa</td>\n",
       "      <td>Southern Africa</td>\n",
       "      <td>30355.0</td>\n",
       "      <td>1966</td>\n",
       "      <td>2153000</td>\n",
       "      <td>50.8</td>\n",
       "      <td>1061.0</td>\n",
       "      <td>1161</td>\n",
       "      <td>Lesotho</td>\n",
       "      <td>Constitutional Monarchy</td>\n",
       "      <td>Letsie III</td>\n",
       "      <td>2437</td>\n",
       "      <td>LS</td>\n",
       "    </tr>\n",
       "    <tr>\n",
       "      <th>118</th>\n",
       "      <td>LAO</td>\n",
       "      <td>Laos</td>\n",
       "      <td>Asia</td>\n",
       "      <td>Southeast Asia</td>\n",
       "      <td>236800.0</td>\n",
       "      <td>1953</td>\n",
       "      <td>5433000</td>\n",
       "      <td>53.1</td>\n",
       "      <td>1292.0</td>\n",
       "      <td>1746</td>\n",
       "      <td>Lao</td>\n",
       "      <td>Republic</td>\n",
       "      <td>Khamtay Siphandone</td>\n",
       "      <td>2432</td>\n",
       "      <td>LA</td>\n",
       "    </tr>\n",
       "    <tr>\n",
       "      <th>217</th>\n",
       "      <td>TWN</td>\n",
       "      <td>Taiwan</td>\n",
       "      <td>Asia</td>\n",
       "      <td>Eastern Asia</td>\n",
       "      <td>36188.0</td>\n",
       "      <td>1945</td>\n",
       "      <td>22256000</td>\n",
       "      <td>76.4</td>\n",
       "      <td>256254.0</td>\n",
       "      <td>263451</td>\n",
       "      <td>Tai-wan</td>\n",
       "      <td>Republic</td>\n",
       "      <td>Chen Shui-bian</td>\n",
       "      <td>3263</td>\n",
       "      <td>TW</td>\n",
       "    </tr>\n",
       "    <tr>\n",
       "      <th>129</th>\n",
       "      <td>MAC</td>\n",
       "      <td>Macao</td>\n",
       "      <td>Asia</td>\n",
       "      <td>Eastern Asia</td>\n",
       "      <td>18.0</td>\n",
       "      <td>NuLL</td>\n",
       "      <td>473000</td>\n",
       "      <td>81.6</td>\n",
       "      <td>5749.0</td>\n",
       "      <td>5940</td>\n",
       "      <td>Macau/Aomen</td>\n",
       "      <td>Special Administrative Region of China</td>\n",
       "      <td>Jiang Zemin</td>\n",
       "      <td>2454</td>\n",
       "      <td>MO</td>\n",
       "    </tr>\n",
       "  </tbody>\n",
       "</table>\n",
       "</div>"
      ],
      "text/plain": [
       "    code                  name      continent           region  surface_area  \\\n",
       "170  PNG      Papua New Guinea        Oceania        Melanesia      462840.0   \n",
       "37   CAN                Canada  North America    North America     9970610.0   \n",
       "6    ANT  Netherlands Antilles  North America        Caribbean         800.0   \n",
       "153  NER                 Niger         Africa   Western Africa     1267000.0   \n",
       "30   BRA                Brazil  South America    South America     8547403.0   \n",
       "165  PAN                Panama  North America  Central America       75517.0   \n",
       "125  LSO               Lesotho         Africa  Southern Africa       30355.0   \n",
       "118  LAO                  Laos           Asia   Southeast Asia      236800.0   \n",
       "217  TWN                Taiwan           Asia     Eastern Asia       36188.0   \n",
       "129  MAC                 Macao           Asia     Eastern Asia          18.0   \n",
       "\n",
       "    independence_year  population life_expectancy       gnp gnp_old  \\\n",
       "170              1975     4807000            63.1    4988.0    6328   \n",
       "37               1867    31147000            79.4  598862.0  625626   \n",
       "6                NuLL      217000            74.7    1941.0    NuLL   \n",
       "153              1960    10730000            41.3    1706.0    1580   \n",
       "30               1822   170115000            62.9  776739.0  804108   \n",
       "165              1903     2856000            75.5    9131.0    8700   \n",
       "125              1966     2153000            50.8    1061.0    1161   \n",
       "118              1953     5433000            53.1    1292.0    1746   \n",
       "217              1945    22256000            76.4  256254.0  263451   \n",
       "129              NuLL      473000            81.6    5749.0    5940   \n",
       "\n",
       "                         local_name  \\\n",
       "170  Papua New Guinea/Papua Niugini   \n",
       "37                           Canada   \n",
       "6              Nederlandse Antillen   \n",
       "153                           Niger   \n",
       "30                           Brasil   \n",
       "165                          Panama   \n",
       "125                         Lesotho   \n",
       "118                             Lao   \n",
       "217                         Tai-wan   \n",
       "129                     Macau/Aomen   \n",
       "\n",
       "                                  government_form  \\\n",
       "170                       Constitutional Monarchy   \n",
       "37            Constitutional Monarchy, Federation   \n",
       "6    Nonmetropolitan Territory of The Netherlands   \n",
       "153                                      Republic   \n",
       "30                               Federal Republic   \n",
       "165                                      Republic   \n",
       "125                       Constitutional Monarchy   \n",
       "118                                      Republic   \n",
       "217                                      Republic   \n",
       "129        Special Administrative Region of China   \n",
       "\n",
       "                      head_of_state capital code2  \n",
       "170                    Elisabeth II    2884    PG  \n",
       "37                     Elisabeth II    1822    CA  \n",
       "6                  Willem-Alexander      33    AN  \n",
       "153                  Mamadou Tandja    2738    NE  \n",
       "30        Fernando Henrique Cardoso     211    BR  \n",
       "165  Mireya Elisa Moscoso RodrIguez    2882    PA  \n",
       "125                      Letsie III    2437    LS  \n",
       "118              Khamtay Siphandone    2432    LA  \n",
       "217                  Chen Shui-bian    3263    TW  \n",
       "129                     Jiang Zemin    2454    MO  "
      ]
     },
     "execution_count": 6,
     "metadata": {},
     "output_type": "execute_result"
    }
   ],
   "source": [
    "df.sample(10)"
   ]
  },
  {
   "cell_type": "markdown",
   "id": "27720c33",
   "metadata": {},
   "source": [
    "### Spread: Gross National Products\n",
    "\n",
    "- range: difference between highest and lowest values \n",
    "- interquartile range (IQR): difference between the 75th percentile (Q3) and the 25th percentile (Q1)\n",
    "- standard deviation: deviation from the mean\n",
    "- variance: average of the squared differences between each data value and the mean "
   ]
  },
  {
   "cell_type": "code",
   "execution_count": 7,
   "id": "58e92ca5",
   "metadata": {},
   "outputs": [
    {
     "name": "stdout",
     "output_type": "stream",
     "text": [
      "Max: 8510700.0\n",
      "Min: 0.0\n",
      "Range: 8510700.0\n",
      "Interquartile range: 29304.5\n",
      "Standard deviation: 637997.578787318\n"
     ]
    }
   ],
   "source": [
    "print(f\"Max: {gnp.max()}\")\n",
    "print(f\"Min: {gnp.min()}\")\n",
    "print(f\"Range: {gnp.max() - gnp.min()}\")\n",
    "print(f\"Interquartile range: {gnp.quantile(0.75) - gnp.quantile(0.25)}\")\n",
    "print(f\"Standard deviation: {gnp.std()}\")"
   ]
  },
  {
   "cell_type": "markdown",
   "id": "58b77652",
   "metadata": {},
   "source": [
    "### Center: Gross National Products\n",
    "\n",
    "- mean: average of all values\n",
    "- median: middle value (when sorted)\n",
    "- mode: most frequent value\n",
    "- midrange: average of the highest and lowest values"
   ]
  },
  {
   "cell_type": "code",
   "execution_count": null,
   "id": "eaad2b95",
   "metadata": {},
   "outputs": [
    {
     "name": "stdout",
     "output_type": "stream",
     "text": [
      "Mean: 122823.88242677823\n",
      "Median: 4787.0\n",
      "Mode: 0    0.0\n",
      "Name: gnp, dtype: float64\n",
      "Midrange: 4255350.0\n"
     ]
    }
   ],
   "source": [
    "print(f\"Mean: {gnp.mean()}\")\n",
    "print(f\"Median: {gnp.median()}\")\n",
    "print(f\"Mode: {gnp.mode()}\")\n",
    "print(f\"Midrange: {(gnp.max()+gnp.min()) / 2 }\")"
   ]
  },
  {
   "cell_type": "code",
   "execution_count": 9,
   "id": "56c08823",
   "metadata": {},
   "outputs": [
    {
     "data": {
      "image/png": "[encoded data removed]",
      "text/plain": [
       "<Figure size 640x480 with 1 Axes>"
      ]
     },
     "metadata": {},
     "output_type": "display_data"
    }
   ],
   "source": [
    "import matplotlib.pyplot as plt\n",
    "fig, ax = plt.subplots()\n",
    "ax.scatter(df.population, df.gnp, alpha=0.2)\n",
    "ax.grid(True)\n",
    "ax.set_ylabel(\"gross national product\")\n",
    "ax.set_xlabel(\"population\")\n",
    "plt.show()"
   ]
  },
  {
   "cell_type": "code",
   "execution_count": 13,
   "id": "6f7ef0c3",
   "metadata": {},
   "outputs": [
    {
     "data": {
      "image/png": "[encoded data removed]",
      "text/plain": [
       "<Figure size 640x480 with 1 Axes>"
      ]
     },
     "metadata": {},
     "output_type": "display_data"
    }
   ],
   "source": [
    "fig, ax = plt.subplots()\n",
    "df_smaller_pop = df[df.population<(0.2e9)]\n",
    "ax.scatter(df_smaller_pop.population, df_smaller_pop.gnp, alpha=0.2)\n",
    "ax.grid(True)\n",
    "ax.set_ylabel(\"gross national product\")\n",
    "ax.set_xlabel(\"population\")\n",
    "plt.show()"
   ]
  }
 ],
 "metadata": {
  "kernelspec": {
   "display_name": ".venv",
   "language": "python",
   "name": "python3"
  },
  "language_info": {
   "codemirror_mode": {
    "name": "ipython",
    "version": 3
   },
   "file_extension": ".py",
   "mimetype": "text/x-python",
   "name": "python",
   "nbconvert_exporter": "python",
   "pygments_lexer": "ipython3",
   "version": "3.13.2"
  }
 },
 "nbformat": 4,
 "nbformat_minor": 5
}
