{
 "cells": [
  {
   "cell_type": "code",
   "execution_count": null,
   "id": "0b82ef85",
   "metadata": {
    "vscode": {
     "languageId": "python"
    }
   },
   "outputs": [
    {
     "ename": "errName (does this appear?)",
     "evalue": "error message (does this appear?)",
     "output_type": "error",
     "traceback": [
      "\u001b[1;31m%SYS.Python::Run failed\u001b[1;39m"
     ]
    }
   ],
   "source": [
    "print(\"hello\")\n",
    "print(\"world3\")\n",
    "# !python -m pip install --target /usr/irissys/mgr/python numpy"
   ]
  },
  {
   "cell_type": "code",
   "execution_count": 133,
   "id": "0634f08f",
   "metadata": {
    "vscode": {
     "languageId": "python"
    }
   },
   "outputs": [
    {
     "data": {
      "text/plain": []
     },
     "execution_count": 133,
     "metadata": {},
     "output_type": "execute_result"
    }
   ],
   "source": [
    "import pandas as pd\n",
    "import iris # pyright: ignore[reportMissingImports]"
   ]
  },
  {
   "cell_type": "code",
   "execution_count": 139,
   "id": "77952cd3",
   "metadata": {
    "vscode": {
     "languageId": "python"
    }
   },
   "outputs": [
    {
     "data": {
      "text/plain": []
     },
     "execution_count": 139,
     "metadata": {},
     "output_type": "execute_result"
    }
   ],
   "source": [
    "# make a pandas dataframe\n",
    "mytable = \"Data.Countries\"\n",
    "rs = iris.sql.exec(\"SELECT * FROM \" + mytable)\n",
    "df = rs.dataframe()\n",
    "gnp = df.gnp"
   ]
  },
  {
   "cell_type": "code",
   "execution_count": 135,
   "id": "b63d0bdd",
   "metadata": {
    "vscode": {
     "languageId": "python"
    }
   },
   "outputs": [
    {
     "data": {
      "text/plain": [
       "    code                  name  ... capital code2\n",
       "203  SYR                 Syria  ...    3250    SY\n",
       "35   BWA              Botswana  ...     204    BW\n",
       "37   CAN                Canada  ...    1822    CA\n",
       "10   ASM        American Samoa  ...      54    AS\n",
       "57   DJI              Djibouti  ...     585    DJ\n",
       "41   CHN                 China  ...    1891    CN\n",
       "70   FJI          Fiji Islands  ...     764    FJ\n",
       "6    ANT  Netherlands Antilles  ...      33    AN\n",
       "126  LTu             Lithuania  ...    2447    LT\n",
       "13   ATG   Antigua and Barbuda  ...      63    AG\n",
       "\n",
       "[10 rows x 15 columns]\n"
      ]
     },
     "execution_count": 135,
     "metadata": {},
     "output_type": "execute_result"
    }
   ],
   "source": [
    "print(df.sample(10))"
   ]
  },
  {
   "cell_type": "markdown",
   "id": "1f583375",
   "metadata": {},
   "source": [
    "### Spread: Gross National Products\n",
    "\n",
    "- range: difference between highest and lowest values \n",
    "- interquartile range (IQR): difference between the 75th percentile (Q3) and the 25th percentile (Q1)\n",
    "- standard deviation: deviation from the mean\n",
    "- variance: average of the squared differences between each data value and the mean "
   ]
  },
  {
   "cell_type": "code",
   "execution_count": 136,
   "id": "0d39c054",
   "metadata": {
    "vscode": {
     "languageId": "python"
    }
   },
   "outputs": [
    {
     "data": {
      "text/plain": [
       "Max: 8510700.0\n",
       "Min: 0.0\n",
       "Range: 8510700.0\n",
       "Interquartile range: 29304.5\n",
       "Standard deviation: 637997.578787318\n"
      ]
     },
     "execution_count": 136,
     "metadata": {},
     "output_type": "execute_result"
    }
   ],
   "source": [
    "print(f\"Max: {gnp.max()}\")\n",
    "print(f\"Min: {gnp.min()}\")\n",
    "print(f\"Range: {gnp.max() - gnp.min()}\")\n",
    "print(f\"Interquartile range: {gnp.quantile(0.75) - gnp.quantile(0.25)}\")\n",
    "print(f\"Standard deviation: {gnp.std()}\")"
   ]
  },
  {
   "cell_type": "markdown",
   "id": "244c75d4",
   "metadata": {},
   "source": [
    "### Center: Gross National Products\n",
    "\n",
    "- mean: average of all values\n",
    "- median: middle value (when sorted)\n",
    "- mode: most frequent value\n",
    "- midrange: average of the highest and lowest values"
   ]
  },
  {
   "cell_type": "code",
   "execution_count": 137,
   "id": "f19f19ac",
   "metadata": {
    "vscode": {
     "languageId": "python"
    }
   },
   "outputs": [
    {
     "data": {
      "text/plain": [
       "Mean: 122823.88242677823\n",
       "Median: 4787.0\n",
       "Mode: 0    0.0\n",
       "Name: gnp, dtype: float64\n",
       "Midrange: 4255350.0\n"
      ]
     },
     "execution_count": 137,
     "metadata": {},
     "output_type": "execute_result"
    }
   ],
   "source": [
    "\n",
    "print(f\"Mean: {gnp.mean()}\")\n",
    "print(f\"Median: {gnp.median()}\")\n",
    "print(f\"Mode: {gnp.mode()}\")\n",
    "print(f\"Midrange: {(gnp.max()+gnp.min()) / 2 }\")"
   ]
  }
 ],
 "metadata": {
  "kernelspec": {
   "display_name": "IRIS Python",
   "language": "python",
   "name": "iris-python"
  },
  "language_info": {
   "name": "iris-polyglot",
   "version": "0.0.1"
  }
 },
 "nbformat": 4,
 "nbformat_minor": 5
}
